{
 "cells": [
  {
   "cell_type": "code",
   "execution_count": 36,
   "id": "stupid-inquiry",
   "metadata": {},
   "outputs": [],
   "source": [
    "import pandas as pd\n",
    "import pickle\n",
    "import os\n",
    "import numpy as np"
   ]
  },
  {
   "cell_type": "code",
   "execution_count": 5,
   "id": "subtle-coach",
   "metadata": {},
   "outputs": [
    {
     "data": {
      "text/plain": [
       "['imported_onset_breakdown.pkl',\n",
       " 'quarantined_onset_breakdown.pkl',\n",
       " 'unknown_onset_breakdown.pkl',\n",
       " 'unlinked_onset_breakdown.pkl']"
      ]
     },
     "execution_count": 5,
     "metadata": {},
     "output_type": "execute_result"
    }
   ],
   "source": [
    "os.listdir('data/onset-delay')"
   ]
  },
  {
   "cell_type": "code",
   "execution_count": 6,
   "id": "seasonal-birmingham",
   "metadata": {},
   "outputs": [],
   "source": [
    "unlinked_pdelay_fp = 'data/onset-delay/unlinked_onset_breakdown.pkl'\n",
    "quarantined_pdelay_fp = 'data/onset-delay/quarantined_onset_breakdown.pkl'\n",
    "\n",
    "unlinked_onset_delay = pickle.load(open(unlinked_pdelay_fp, 'rb'))\n",
    "quarantined_onset_delay = pickle.load(open(quarantined_pdelay_fp, 'rb'))"
   ]
  },
  {
   "cell_type": "code",
   "execution_count": 50,
   "id": "featured-reminder",
   "metadata": {},
   "outputs": [],
   "source": [
    "def get_custom_p_delay(fp, incubation_days=5):\n",
    "    \n",
    "    # Loads dictionary\n",
    "    delay_info_raw = pickle.load(open(fp, 'rb'))\n",
    "    \n",
    "    # Remove -1 \n",
    "    delay_info_cleaned = dict([x for x in delay_info_raw.items() if x[0]!=-1])\n",
    "    \n",
    "    # Find sum and return normalized counts\n",
    "    total_cases = sum(delay_info_cleaned.values())\n",
    "    p_delay = pd.Series((1/total_cases)*np.array(list(delay_info_cleaned.values())))\n",
    "    \n",
    "    # Append incubation days to the front\n",
    "    p_delay = (\n",
    "        pd.Series(0.0001*np.ones(incubation_days))\n",
    "        .append(p_delay, ignore_index=True)\n",
    "        .rename(\"p_delay\")\n",
    "    )\n",
    "    \n",
    "    return p_delay"
   ]
  },
  {
   "cell_type": "code",
   "execution_count": 54,
   "id": "pleasant-spray",
   "metadata": {},
   "outputs": [
    {
     "data": {
      "text/plain": [
       "{-1: 5,\n",
       " 0: 36,\n",
       " 1: 140,\n",
       " 2: 141,\n",
       " 3: 72,\n",
       " 4: 57,\n",
       " 5: 20,\n",
       " 6: 22,\n",
       " 7: 14,\n",
       " 8: 9,\n",
       " 9: 5,\n",
       " 10: 3,\n",
       " 11: 1,\n",
       " 12: 1,\n",
       " 13: 2,\n",
       " 16: 2,\n",
       " 19: 1,\n",
       " 22: 1}"
      ]
     },
     "execution_count": 54,
     "metadata": {},
     "output_type": "execute_result"
    }
   ],
   "source": [
    "unlinked_onset_delay"
   ]
  },
  {
   "cell_type": "code",
   "execution_count": 52,
   "id": "agricultural-front",
   "metadata": {},
   "outputs": [
    {
     "data": {
      "text/plain": [
       "0     0.000100\n",
       "1     0.000100\n",
       "2     0.000100\n",
       "3     0.000100\n",
       "4     0.000100\n",
       "5     0.068311\n",
       "6     0.265655\n",
       "7     0.267552\n",
       "8     0.136622\n",
       "9     0.108159\n",
       "10    0.037951\n",
       "11    0.041746\n",
       "12    0.026565\n",
       "13    0.017078\n",
       "14    0.009488\n",
       "15    0.005693\n",
       "16    0.001898\n",
       "17    0.001898\n",
       "18    0.003795\n",
       "19    0.003795\n",
       "20    0.001898\n",
       "21    0.001898\n",
       "Name: p_delay, dtype: float64"
      ]
     },
     "execution_count": 52,
     "metadata": {},
     "output_type": "execute_result"
    }
   ],
   "source": [
    "get_custom_p_delay(unlinked_onset_delay)"
   ]
  },
  {
   "cell_type": "code",
   "execution_count": 49,
   "id": "supreme-texas",
   "metadata": {},
   "outputs": [
    {
     "data": {
      "text/plain": [
       "0     0.068311\n",
       "1     0.265655\n",
       "2     0.267552\n",
       "3     0.136622\n",
       "4     0.108159\n",
       "5     0.037951\n",
       "6     0.041746\n",
       "7     0.026565\n",
       "8     0.017078\n",
       "9     0.009488\n",
       "10    0.005693\n",
       "11    0.001898\n",
       "12    0.001898\n",
       "13    0.003795\n",
       "14    0.003795\n",
       "15    0.001898\n",
       "16    0.001898\n",
       "dtype: float64"
      ]
     },
     "execution_count": 49,
     "metadata": {},
     "output_type": "execute_result"
    }
   ],
   "source": [
    "pd.Series(p_delay)"
   ]
  },
  {
   "cell_type": "code",
   "execution_count": 46,
   "id": "remarkable-democracy",
   "metadata": {},
   "outputs": [],
   "source": [
    "delay_info_cleaned = dict([x for x in unlinked_onset_delay.items() if x[0]!=-1])\n",
    "total_cases = sum(delay_info_cleaned.values())\n",
    "    \n",
    "p_delay = (1/total_cases)*np.array(list(delay_info_cleaned.values())) "
   ]
  },
  {
   "cell_type": "code",
   "execution_count": 47,
   "id": "helpful-recycling",
   "metadata": {},
   "outputs": [
    {
     "data": {
      "text/plain": [
       "array([0.0683112 , 0.26565465, 0.26755218, 0.13662239, 0.10815939,\n",
       "       0.03795066, 0.04174573, 0.02656546, 0.0170778 , 0.00948767,\n",
       "       0.0056926 , 0.00189753, 0.00189753, 0.00379507, 0.00379507,\n",
       "       0.00189753, 0.00189753])"
      ]
     },
     "execution_count": 47,
     "metadata": {},
     "output_type": "execute_result"
    }
   ],
   "source": [
    "p_delay"
   ]
  },
  {
   "cell_type": "code",
   "execution_count": 43,
   "id": "tracked-azerbaijan",
   "metadata": {},
   "outputs": [
    {
     "data": {
      "text/plain": [
       "array([ 36, 140, 141,  72,  57,  20,  22,  14,   9,   5,   3,   1,   1,\n",
       "         2,   2,   1,   1])"
      ]
     },
     "execution_count": 43,
     "metadata": {},
     "output_type": "execute_result"
    }
   ],
   "source": [
    "np.array(list(delay_info_cleaned.values()) )"
   ]
  },
  {
   "cell_type": "code",
   "execution_count": 32,
   "id": "received-brass",
   "metadata": {},
   "outputs": [
    {
     "data": {
      "text/plain": [
       "527"
      ]
     },
     "execution_count": 32,
     "metadata": {},
     "output_type": "execute_result"
    }
   ],
   "source": [
    "sum(delay_info_cleaned.values())"
   ]
  },
  {
   "cell_type": "code",
   "execution_count": 23,
   "id": "optical-carnival",
   "metadata": {},
   "outputs": [
    {
     "ename": "TypeError",
     "evalue": "'int' object is not subscriptable",
     "output_type": "error",
     "traceback": [
      "\u001b[0;31m---------------------------------------------------------------------------\u001b[0m",
      "\u001b[0;31mTypeError\u001b[0m                                 Traceback (most recent call last)",
      "\u001b[0;32m<ipython-input-23-89331eb3417d>\u001b[0m in \u001b[0;36m<module>\u001b[0;34m\u001b[0m\n\u001b[1;32m      1\u001b[0m \u001b[0ma\u001b[0m \u001b[0;34m=\u001b[0m \u001b[0;34m[\u001b[0m\u001b[0;34m]\u001b[0m\u001b[0;34m\u001b[0m\u001b[0;34m\u001b[0m\u001b[0m\n\u001b[1;32m      2\u001b[0m \u001b[0;32mfor\u001b[0m \u001b[0mx\u001b[0m \u001b[0;32min\u001b[0m \u001b[0munlinked_onset_delay\u001b[0m\u001b[0;34m:\u001b[0m\u001b[0;34m\u001b[0m\u001b[0;34m\u001b[0m\u001b[0m\n\u001b[0;32m----> 3\u001b[0;31m     \u001b[0;32mif\u001b[0m \u001b[0mx\u001b[0m\u001b[0;34m[\u001b[0m\u001b[0;36m0\u001b[0m\u001b[0;34m]\u001b[0m\u001b[0;34m!=\u001b[0m\u001b[0;34m-\u001b[0m\u001b[0;36m1\u001b[0m\u001b[0;34m:\u001b[0m\u001b[0;34m\u001b[0m\u001b[0;34m\u001b[0m\u001b[0m\n\u001b[0m\u001b[1;32m      4\u001b[0m         \u001b[0ma\u001b[0m\u001b[0;34m.\u001b[0m\u001b[0mappend\u001b[0m\u001b[0;34m(\u001b[0m\u001b[0mx\u001b[0m\u001b[0;34m)\u001b[0m\u001b[0;34m\u001b[0m\u001b[0;34m\u001b[0m\u001b[0m\n",
      "\u001b[0;31mTypeError\u001b[0m: 'int' object is not subscriptable"
     ]
    }
   ],
   "source": [
    "a = []\n",
    "for x in unlinked_onset_delay:\n",
    "    if x[0]!=-1:\n",
    "        a.append(x) \n"
   ]
  },
  {
   "cell_type": "code",
   "execution_count": 25,
   "id": "amateur-blowing",
   "metadata": {},
   "outputs": [
    {
     "ename": "TypeError",
     "evalue": "'int' object is not subscriptable",
     "output_type": "error",
     "traceback": [
      "\u001b[0;31m---------------------------------------------------------------------------\u001b[0m",
      "\u001b[0;31mTypeError\u001b[0m                                 Traceback (most recent call last)",
      "\u001b[0;32m<ipython-input-25-2f755f117ac9>\u001b[0m in \u001b[0;36m<module>\u001b[0;34m\u001b[0m\n\u001b[0;32m----> 1\u001b[0;31m \u001b[0mx\u001b[0m\u001b[0;34m[\u001b[0m\u001b[0;36m0\u001b[0m\u001b[0;34m]\u001b[0m\u001b[0;34m\u001b[0m\u001b[0;34m\u001b[0m\u001b[0m\n\u001b[0m",
      "\u001b[0;31mTypeError\u001b[0m: 'int' object is not subscriptable"
     ]
    }
   ],
   "source": [
    "x[0]"
   ]
  },
  {
   "cell_type": "code",
   "execution_count": 20,
   "id": "sonic-british",
   "metadata": {},
   "outputs": [
    {
     "data": {
      "text/plain": [
       "22"
      ]
     },
     "execution_count": 20,
     "metadata": {},
     "output_type": "execute_result"
    }
   ],
   "source": [
    "a[0]"
   ]
  },
  {
   "cell_type": "code",
   "execution_count": null,
   "id": "divided-royalty",
   "metadata": {},
   "outputs": [],
   "source": []
  }
 ],
 "metadata": {
  "kernelspec": {
   "display_name": "pymc3_jax",
   "language": "python",
   "name": "pymc3_env_clone_jax"
  },
  "language_info": {
   "codemirror_mode": {
    "name": "ipython",
    "version": 3
   },
   "file_extension": ".py",
   "mimetype": "text/x-python",
   "name": "python",
   "nbconvert_exporter": "python",
   "pygments_lexer": "ipython3",
   "version": "3.9.2"
  }
 },
 "nbformat": 4,
 "nbformat_minor": 5
}
